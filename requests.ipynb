{
 "cells": [
  {
   "cell_type": "code",
   "execution_count": 10,
   "metadata": {},
   "outputs": [
    {
     "name": "stdout",
     "output_type": "stream",
     "text": [
      "This tweet is related with disaster!!!!\n"
     ]
    }
   ],
   "source": [
    "# Tweet about earthquake in Nepal\n",
    "import requests\n",
    "url = 'http://localhost:5000/results'\n",
    "r = requests.post(url, json={\"text\":\"An #earthquake has been felt across #Nepal. The #tremor was well felt in #Kathmandu Valley. The epicenter is expected to be around magnitude 4.8 with epicenter near Kothari in Nepal-India border \"})\n",
    "print(r.json())"
   ]
  },
  {
   "cell_type": "code",
   "execution_count": 11,
   "metadata": {},
   "outputs": [
    {
     "name": "stdout",
     "output_type": "stream",
     "text": [
      "This tweet is not disaster related.\n"
     ]
    }
   ],
   "source": [
    "# Tweet about film Tenet\n",
    "import requests\n",
    "url = 'http://localhost:5000/results'\n",
    "r = requests.post(url, json={\"text\":\"It’s impossible not to get emotional during the end scene of #tenet between Robert Pattinson and John David Washington. Just brilliant chemistry, genius film making from Chris Nolan. Inspired casting, inspired cinema.\"})\n",
    "print(r.json())"
   ]
  },
  {
   "cell_type": "code",
   "execution_count": null,
   "metadata": {},
   "outputs": [],
   "source": []
  }
 ],
 "metadata": {
  "kernelspec": {
   "display_name": "Python 3",
   "language": "python",
   "name": "python3"
  },
  "language_info": {
   "codemirror_mode": {
    "name": "ipython",
    "version": 3
   },
   "file_extension": ".py",
   "mimetype": "text/x-python",
   "name": "python",
   "nbconvert_exporter": "python",
   "pygments_lexer": "ipython3",
   "version": "3.8.5"
  }
 },
 "nbformat": 4,
 "nbformat_minor": 4
}
